{
 "cells": [
  {
   "cell_type": "markdown",
   "id": "e7e5d834-226a-425e-bc4e-196366199d01",
   "metadata": {},
   "source": [
    "## Import Require Library"
   ]
  },
  {
   "cell_type": "code",
   "execution_count": 24,
   "id": "48516586-aa88-41bf-a29e-feed4c8397f2",
   "metadata": {},
   "outputs": [],
   "source": [
    "import duckdb\n",
    "import geopandas as gp\n",
    "import pandas as pd\n",
    "from shapely.geometry import Point\n",
    "from shapely import wkt\n",
    "import time\n",
    "import numpy as np"
   ]
  },
  {
   "cell_type": "markdown",
   "id": "c60d80f7-d499-416d-a963-9a06bd5aa0a6",
   "metadata": {},
   "source": [
    "## Load Data"
   ]
  },
  {
   "cell_type": "code",
   "execution_count": 2,
   "id": "a0fe161e-f353-47b5-a3a9-f3bd90b65823",
   "metadata": {},
   "outputs": [
    {
     "name": "stderr",
     "output_type": "stream",
     "text": [
      "C:\\Users\\diasn\\AppData\\Local\\Temp\\ipykernel_37956\\2693790467.py:2: DtypeWarning: Columns (9) have mixed types. Specify dtype option on import or set low_memory=False.\n",
      "  poi_data = pd.read_csv('../data/poi/poi_data_from_osm.csv')\n"
     ]
    }
   ],
   "source": [
    "spatial_data = gp.read_file('../data/Peta Bapernas - Kab/DESA_83218 - Kab.TAB')\n",
    "poi_data = pd.read_csv('../data/poi/poi_data_from_osm.csv')"
   ]
  },
  {
   "cell_type": "code",
   "execution_count": null,
   "id": "3f07a9fd-1ac1-4ec0-9d86-00ceb8d7c756",
   "metadata": {},
   "outputs": [],
   "source": [
    "spatial_data.info()"
   ]
  },
  {
   "cell_type": "code",
   "execution_count": null,
   "id": "e6c1e28a-6353-4854-8a75-1cbc5ff9b3a1",
   "metadata": {},
   "outputs": [],
   "source": [
    "poi_data.head(5)"
   ]
  },
  {
   "cell_type": "markdown",
   "id": "a0b0c6bf-baa0-43ed-9309-3bbbe2f7e194",
   "metadata": {},
   "source": [
    "## Intersection with GeoPandas"
   ]
  },
  {
   "cell_type": "code",
   "execution_count": 10,
   "id": "2b873f5d-7d4e-4f9e-a475-73357042f248",
   "metadata": {},
   "outputs": [],
   "source": [
    "def within_geopandas(df_point, df_polygon):\n",
    "    # Create Point geometry from longitude and latitude\n",
    "    geometry = [Point(lon, lat) for lon, lat in zip(df_point['longitude'], df_point['latitude'])]\n",
    "    df_point = gp.GeoDataFrame(df_point, geometry=geometry, crs=\"EPSG:4326\")  # assuming lat/lon is in WGS84 (EPSG:4326)\n",
    "    gdf_joined = gp.sjoin(df_point, df_polygon, how=\"inner\", predicate=\"within\")\n",
    "    return gdf_joined"
   ]
  },
  {
   "cell_type": "markdown",
   "id": "00fe5eea-9645-408b-a0c5-d4b6d4a96afe",
   "metadata": {},
   "source": [
    "## Intersection with DuckDB"
   ]
  },
  {
   "cell_type": "code",
   "execution_count": 11,
   "id": "3c3b1731-0425-49e1-983e-c060cdf19d33",
   "metadata": {},
   "outputs": [],
   "source": [
    "def within_duckdb(df_point, df_polygon):\n",
    "    \n",
    "    points_df = df_point.copy()\n",
    "    polygons_df = df_polygon.copy()\n",
    "    \n",
    "    # Convert polygons and points to WKT format (as text)\n",
    "    polygons_df['geometry'] =  polygons_df['geometry'].apply(lambda geom: geom.wkt)\n",
    "    \n",
    "    # Connect to DuckDB\n",
    "    con = duckdb.connect()\n",
    "    \n",
    "    # Register the DataFrames as tables in DuckDB\n",
    "    con.register('points', points_df)\n",
    "    con.register('polygons', polygons_df)\n",
    "    \n",
    "    query = \"\"\"\n",
    "        INSTALL spatial;\n",
    "        LOAD spatial;\n",
    "        SELECT *\n",
    "        FROM points AS p\n",
    "        JOIN polygons AS poly\n",
    "        ON ST_Within(ST_Point(longitude, latitude), ST_GeomFromText(poly.geometry)) = TRUE\n",
    "    \"\"\"\n",
    "\n",
    "    result = con.execute(query).fetchdf()\n",
    "    return result"
   ]
  },
  {
   "cell_type": "markdown",
   "id": "53772829-d3b1-4605-a43b-47318fc7aeb7",
   "metadata": {},
   "source": [
    "## Comparison the Performance on Sampling of Data"
   ]
  },
  {
   "cell_type": "code",
   "execution_count": 32,
   "id": "083333ab-1868-439b-aea7-acd70638682b",
   "metadata": {},
   "outputs": [],
   "source": [
    "len_sample = list(range(0, 100001, 1000))\n",
    "\n",
    "df_result_all = []\n",
    "for sample_num in len_sample:\n",
    "    #sampling point\n",
    "    sampled_df = poi_data.sample(n=sample_num)\n",
    "    \n",
    "    #calculate time for geopandas\n",
    "    start_time = time.time()\n",
    "    result_geopandas = within_geopandas(sampled_df, spatial_data)\n",
    "    end_time = time.time()\n",
    "    exec_time_geopandas = end_time - start_time\n",
    "\n",
    "    #calculate time for duckdb\n",
    "    start_time = time.time()\n",
    "    result_duckdb = within_geopandas(sampled_df, spatial_data)\n",
    "    end_time = time.time()\n",
    "    exec_time_duckdb = end_time - start_time\n",
    "\n",
    "\n",
    "    #create dataframe result \n",
    "    df_result = pd.DataFrame(columns=[\"sample_num\"])\n",
    "    df_result.loc[0] = sample_num\n",
    "    df_result[\"geopandas_times\"] = exec_time_geopandas\n",
    "    df_result[\"duckdb_times\"] = exec_time_duckdb\n",
    "\n",
    "    df_result_all.append(df_result)\n",
    "\n",
    "df_result_all = pd.concat(df_result_all).reset_index(drop=True)"
   ]
  },
  {
   "cell_type": "code",
   "execution_count": 33,
   "id": "5ed4e361-072d-4e06-a330-1b678a8cf933",
   "metadata": {},
   "outputs": [
    {
     "data": {
      "text/html": [
       "<div>\n",
       "<style scoped>\n",
       "    .dataframe tbody tr th:only-of-type {\n",
       "        vertical-align: middle;\n",
       "    }\n",
       "\n",
       "    .dataframe tbody tr th {\n",
       "        vertical-align: top;\n",
       "    }\n",
       "\n",
       "    .dataframe thead th {\n",
       "        text-align: right;\n",
       "    }\n",
       "</style>\n",
       "<table border=\"1\" class=\"dataframe\">\n",
       "  <thead>\n",
       "    <tr style=\"text-align: right;\">\n",
       "      <th></th>\n",
       "      <th>sample_num</th>\n",
       "      <th>geopandas_times</th>\n",
       "      <th>duckdb_times</th>\n",
       "    </tr>\n",
       "  </thead>\n",
       "  <tbody>\n",
       "    <tr>\n",
       "      <th>0</th>\n",
       "      <td>0</td>\n",
       "      <td>0.011326</td>\n",
       "      <td>0.007110</td>\n",
       "    </tr>\n",
       "    <tr>\n",
       "      <th>1</th>\n",
       "      <td>1000</td>\n",
       "      <td>0.163843</td>\n",
       "      <td>0.168256</td>\n",
       "    </tr>\n",
       "    <tr>\n",
       "      <th>2</th>\n",
       "      <td>2000</td>\n",
       "      <td>0.201836</td>\n",
       "      <td>0.200123</td>\n",
       "    </tr>\n",
       "    <tr>\n",
       "      <th>3</th>\n",
       "      <td>3000</td>\n",
       "      <td>0.203216</td>\n",
       "      <td>0.210129</td>\n",
       "    </tr>\n",
       "    <tr>\n",
       "      <th>4</th>\n",
       "      <td>4000</td>\n",
       "      <td>0.218168</td>\n",
       "      <td>0.241925</td>\n",
       "    </tr>\n",
       "    <tr>\n",
       "      <th>...</th>\n",
       "      <td>...</td>\n",
       "      <td>...</td>\n",
       "      <td>...</td>\n",
       "    </tr>\n",
       "    <tr>\n",
       "      <th>96</th>\n",
       "      <td>96000</td>\n",
       "      <td>2.009251</td>\n",
       "      <td>2.142075</td>\n",
       "    </tr>\n",
       "    <tr>\n",
       "      <th>97</th>\n",
       "      <td>97000</td>\n",
       "      <td>1.818815</td>\n",
       "      <td>3.164976</td>\n",
       "    </tr>\n",
       "    <tr>\n",
       "      <th>98</th>\n",
       "      <td>98000</td>\n",
       "      <td>1.914112</td>\n",
       "      <td>1.844079</td>\n",
       "    </tr>\n",
       "    <tr>\n",
       "      <th>99</th>\n",
       "      <td>99000</td>\n",
       "      <td>1.666628</td>\n",
       "      <td>1.951303</td>\n",
       "    </tr>\n",
       "    <tr>\n",
       "      <th>100</th>\n",
       "      <td>100000</td>\n",
       "      <td>1.964561</td>\n",
       "      <td>1.668453</td>\n",
       "    </tr>\n",
       "  </tbody>\n",
       "</table>\n",
       "<p>101 rows × 3 columns</p>\n",
       "</div>"
      ],
      "text/plain": [
       "     sample_num  geopandas_times  duckdb_times\n",
       "0             0         0.011326      0.007110\n",
       "1          1000         0.163843      0.168256\n",
       "2          2000         0.201836      0.200123\n",
       "3          3000         0.203216      0.210129\n",
       "4          4000         0.218168      0.241925\n",
       "..          ...              ...           ...\n",
       "96        96000         2.009251      2.142075\n",
       "97        97000         1.818815      3.164976\n",
       "98        98000         1.914112      1.844079\n",
       "99        99000         1.666628      1.951303\n",
       "100      100000         1.964561      1.668453\n",
       "\n",
       "[101 rows x 3 columns]"
      ]
     },
     "execution_count": 33,
     "metadata": {},
     "output_type": "execute_result"
    }
   ],
   "source": [
    "df_result_all"
   ]
  },
  {
   "cell_type": "code",
   "execution_count": 34,
   "id": "c94ccfe2-e9dc-4f07-b788-11c37ece742d",
   "metadata": {},
   "outputs": [],
   "source": [
    "df = df_result_all.copy()"
   ]
  },
  {
   "cell_type": "code",
   "execution_count": 35,
   "id": "18873a5f-3782-4d54-863a-a88615e1fb1e",
   "metadata": {},
   "outputs": [
    {
     "ename": "ModuleNotFoundError",
     "evalue": "No module named 'matplotlib'",
     "output_type": "error",
     "traceback": [
      "\u001b[1;31m---------------------------------------------------------------------------\u001b[0m",
      "\u001b[1;31mModuleNotFoundError\u001b[0m                       Traceback (most recent call last)",
      "Cell \u001b[1;32mIn[35], line 1\u001b[0m\n\u001b[1;32m----> 1\u001b[0m \u001b[38;5;28;01mimport\u001b[39;00m \u001b[38;5;21;01mmatplotlib\u001b[39;00m\u001b[38;5;21;01m.\u001b[39;00m\u001b[38;5;21;01mpyplot\u001b[39;00m \u001b[38;5;28;01mas\u001b[39;00m \u001b[38;5;21;01mplt\u001b[39;00m\n\u001b[0;32m      3\u001b[0m plt\u001b[38;5;241m.\u001b[39mfigure(figsize\u001b[38;5;241m=\u001b[39m(\u001b[38;5;241m8\u001b[39m, \u001b[38;5;241m6\u001b[39m))\n\u001b[0;32m      4\u001b[0m plt\u001b[38;5;241m.\u001b[39mplot(df[\u001b[38;5;124m'\u001b[39m\u001b[38;5;124msample_num\u001b[39m\u001b[38;5;124m'\u001b[39m], df[\u001b[38;5;124m'\u001b[39m\u001b[38;5;124mgeopandas_times\u001b[39m\u001b[38;5;124m'\u001b[39m], label\u001b[38;5;241m=\u001b[39m\u001b[38;5;124m'\u001b[39m\u001b[38;5;124mGeopandas Times\u001b[39m\u001b[38;5;124m'\u001b[39m, marker\u001b[38;5;241m=\u001b[39m\u001b[38;5;124m'\u001b[39m\u001b[38;5;124mo\u001b[39m\u001b[38;5;124m'\u001b[39m)\n",
      "\u001b[1;31mModuleNotFoundError\u001b[0m: No module named 'matplotlib'"
     ]
    }
   ],
   "source": [
    "import matplotlib.pyplot as plt\n",
    "\n",
    "plt.figure(figsize=(8, 6))\n",
    "plt.plot(df['sample_num'], df['geopandas_times'], label='Geopandas Times', marker='o')\n",
    "plt.plot(df['sample_num'], df['duckdb_times'], label='DuckDB Times', marker='o')\n",
    "\n",
    "# Add titles and labels\n",
    "plt.title('Geopandas vs DuckDB Time Comparison')\n",
    "plt.xlabel('Sample Number')\n",
    "plt.ylabel('Time (seconds)')\n",
    "plt.legend()\n",
    "\n",
    "# Display the plot\n",
    "plt.grid(True)\n",
    "plt.show()"
   ]
  },
  {
   "cell_type": "code",
   "execution_count": null,
   "id": "0b5e5ec2-1cce-45cd-b2f1-82a1cef743dc",
   "metadata": {},
   "outputs": [],
   "source": []
  }
 ],
 "metadata": {
  "kernelspec": {
   "display_name": "Python 3 (ipykernel)",
   "language": "python",
   "name": "python3"
  },
  "language_info": {
   "codemirror_mode": {
    "name": "ipython",
    "version": 3
   },
   "file_extension": ".py",
   "mimetype": "text/x-python",
   "name": "python",
   "nbconvert_exporter": "python",
   "pygments_lexer": "ipython3",
   "version": "3.10.16"
  }
 },
 "nbformat": 4,
 "nbformat_minor": 5
}
